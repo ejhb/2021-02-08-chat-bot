{
 "metadata": {
  "language_info": {
   "codemirror_mode": {
    "name": "ipython",
    "version": 3
   },
   "file_extension": ".py",
   "mimetype": "text/x-python",
   "name": "python",
   "nbconvert_exporter": "python",
   "pygments_lexer": "ipython3",
   "version": "3.8.5"
  },
  "orig_nbformat": 2,
  "kernelspec": {
   "name": "python3",
   "display_name": "Python 3",
   "language": "python"
  }
 },
 "nbformat": 4,
 "nbformat_minor": 2,
 "cells": [
  {
   "cell_type": "code",
   "execution_count": 83,
   "metadata": {},
   "outputs": [],
   "source": [
    "import pymongo\n",
    "from datetime import datetime\n",
    "import pandas as pd \n",
    "dateTimeObj = datetime.now()\n",
    "timestampStr = dateTimeObj.strftime(\"%Y-%m-%d (%H:%M)\")\n",
    "\n",
    "\n",
    "client = pymongo.MongoClient(\"mongodb://localhost:27017/\")\n",
    "mydb = client[\"homie\"]\n"
   ]
  },
  {
   "cell_type": "code",
   "execution_count": 84,
   "metadata": {},
   "outputs": [],
   "source": [
    "#question doc type\n",
    "question_feedback ={}\n",
    "content_question1 = \"you like pasta?\"\n",
    "content_question2 = \"you like pasta? 1\"\n",
    "content_question3 = \"you like pasta? 2\"\n",
    "content_question4 = \"you like pasta? 3\""
   ]
  },
  {
   "cell_type": "code",
   "execution_count": 87,
   "metadata": {},
   "outputs": [],
   "source": [
    "#user doc type\n",
    "user_feedback = {}\n",
    "new_user = \"Joshua Harris #4321\"\n",
    "\n",
    "list_answers = [\"oui\",\"oui1\",\"oui2\",\"oui3\"]\n",
    "ladate =\"2020-20-20\""
   ]
  },
  {
   "cell_type": "code",
   "execution_count": 88,
   "metadata": {},
   "outputs": [],
   "source": [
    "question_feedback = {\n",
    "    \"question1\":content_question1,\n",
    "    \"question2\":content_question2,\n",
    "    \"question3\":content_question3,\n",
    "    \"question4\":content_question4\n",
    "}\n",
    "user_feedback = {\n",
    "    \"user\":new_user,\n",
    "    \"answer1\":list_answers[0],\n",
    "    \"answer2\":list_answers[1],\n",
    "    \"answer3\":list_answers[2],\n",
    "    \"answer4\":list_answers[3], \n",
    "    \"date-feedback\":timestampStr\n",
    "}"
   ]
  },
  {
   "cell_type": "code",
   "execution_count": 89,
   "metadata": {},
   "outputs": [
    {
     "output_type": "execute_result",
     "data": {
      "text/plain": [
       "['question1', 'question2', 'question3', 'question4']"
      ]
     },
     "metadata": {},
     "execution_count": 89
    }
   ],
   "source": [
    "quest = mydb.feedback.find(question_feedback,{\"question1\":1})\n",
    "        #Load question form db mongo\n",
    "list_q = []\n",
    "for question in quest:\n",
    "    list_q.append(question)\n",
    "list_question = list_q[1:]\n",
    "list_question"
   ]
  },
  {
   "cell_type": "code",
   "execution_count": 125,
   "metadata": {},
   "outputs": [
    {
     "output_type": "stream",
     "name": "stdout",
     "text": [
      "[{'_id': ObjectId('602f9c604313d4cad4701dac'), 'question1': 'you like pasta?'}]\n"
     ]
    }
   ],
   "source": []
  },
  {
   "cell_type": "code",
   "execution_count": 90,
   "metadata": {},
   "outputs": [
    {
     "output_type": "execute_result",
     "data": {
      "text/plain": [
       "<pymongo.results.InsertOneResult at 0x7f483c3eaf80>"
      ]
     },
     "metadata": {},
     "execution_count": 90
    }
   ],
   "source": [
    "# mydb.feedback.insert_one(question_feedback)\n",
    "mydb.feedback.insert_one(user_feedback)"
   ]
  },
  {
   "cell_type": "code",
   "execution_count": 106,
   "metadata": {},
   "outputs": [
    {
     "output_type": "execute_result",
     "data": {
      "text/plain": [
       "<pymongo.cursor.Cursor at 0x7f48733d6130>"
      ]
     },
     "metadata": {},
     "execution_count": 106
    }
   ],
   "source": [
    "mydb.feedback.find({user:1,\"answer1\":1})"
   ]
  },
  {
   "cell_type": "code",
   "execution_count": 135,
   "metadata": {},
   "outputs": [],
   "source": [
    "import pandas as pd\n",
    "df_user = pd.DataFrame(list(mydb.user.find()))\n",
    "df_question = pd.DataFrame(list(mydb.question.find()))"
   ]
  },
  {
   "cell_type": "code",
   "execution_count": 132,
   "metadata": {},
   "outputs": [
    {
     "output_type": "execute_result",
     "data": {
      "text/plain": [
       "                 user answer1 answer2 answer3 answer4       date-feedback\n",
       "0  Joshua Harris#7613      ye      ye      ye      ye  2021-02-19 (13:38)"
      ],
      "text/html": "<div>\n<style scoped>\n    .dataframe tbody tr th:only-of-type {\n        vertical-align: middle;\n    }\n\n    .dataframe tbody tr th {\n        vertical-align: top;\n    }\n\n    .dataframe thead th {\n        text-align: right;\n    }\n</style>\n<table border=\"1\" class=\"dataframe\">\n  <thead>\n    <tr style=\"text-align: right;\">\n      <th></th>\n      <th>user</th>\n      <th>answer1</th>\n      <th>answer2</th>\n      <th>answer3</th>\n      <th>answer4</th>\n      <th>date-feedback</th>\n    </tr>\n  </thead>\n  <tbody>\n    <tr>\n      <th>0</th>\n      <td>Joshua Harris#7613</td>\n      <td>ye</td>\n      <td>ye</td>\n      <td>ye</td>\n      <td>ye</td>\n      <td>2021-02-19 (13:38)</td>\n    </tr>\n  </tbody>\n</table>\n</div>"
     },
     "metadata": {},
     "execution_count": 132
    }
   ],
   "source": [
    "df_user = df_user.drop(columns=[\"_id\"])\n",
    "df_user"
   ]
  },
  {
   "cell_type": "code",
   "execution_count": 136,
   "metadata": {},
   "outputs": [
    {
     "output_type": "execute_result",
     "data": {
      "text/plain": [
       "         question1          question2          question3          question4\n",
       "0  you like pasta?  you like pasta? 1  you like pasta? 2  you like pasta? 3"
      ],
      "text/html": "<div>\n<style scoped>\n    .dataframe tbody tr th:only-of-type {\n        vertical-align: middle;\n    }\n\n    .dataframe tbody tr th {\n        vertical-align: top;\n    }\n\n    .dataframe thead th {\n        text-align: right;\n    }\n</style>\n<table border=\"1\" class=\"dataframe\">\n  <thead>\n    <tr style=\"text-align: right;\">\n      <th></th>\n      <th>question1</th>\n      <th>question2</th>\n      <th>question3</th>\n      <th>question4</th>\n    </tr>\n  </thead>\n  <tbody>\n    <tr>\n      <th>0</th>\n      <td>you like pasta?</td>\n      <td>you like pasta? 1</td>\n      <td>you like pasta? 2</td>\n      <td>you like pasta? 3</td>\n    </tr>\n  </tbody>\n</table>\n</div>"
     },
     "metadata": {},
     "execution_count": 136
    }
   ],
   "source": [
    "df_question = df_question.drop(columns=[\"_id\"])\n",
    "df_question\n"
   ]
  },
  {
   "cell_type": "code",
   "execution_count": 146,
   "metadata": {},
   "outputs": [
    {
     "output_type": "execute_result",
     "data": {
      "text/plain": [
       "',question1,question2,question3,question4\\n0,you like pasta?,you like pasta? 1,you like pasta? 2,you like pasta? 3\\n'"
      ]
     },
     "metadata": {},
     "execution_count": 146
    }
   ],
   "source": [
    "csv_question = df_question.to_csv()\n",
    "csv_question"
   ]
  }
 ]
}